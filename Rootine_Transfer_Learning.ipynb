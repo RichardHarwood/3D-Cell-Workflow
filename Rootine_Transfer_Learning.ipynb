{
  "nbformat": 4,
  "nbformat_minor": 0,
  "metadata": {
    "colab": {
      "provenance": [],
      "gpuType": "T4",
      "authorship_tag": "ABX9TyMdQfovLWDMpTYVnJJfe+6M",
      "include_colab_link": true
    },
    "kernelspec": {
      "name": "python3",
      "display_name": "Python 3"
    },
    "language_info": {
      "name": "python"
    },
    "accelerator": "GPU"
  },
  "cells": [
    {
      "cell_type": "markdown",
      "metadata": {
        "id": "view-in-github",
        "colab_type": "text"
      },
      "source": [
        "<a href=\"https://colab.research.google.com/github/RichardHarwood/3D-Cell-Workflow/blob/main/Rootine_Transfer_Learning.ipynb\" target=\"_parent\"><img src=\"https://colab.research.google.com/assets/colab-badge.svg\" alt=\"Open In Colab\"/></a>"
      ]
    },
    {
      "cell_type": "code",
      "execution_count": 3,
      "metadata": {
        "id": "fPcwKpo7E97X"
      },
      "outputs": [],
      "source": [
        "%%capture\n",
        "!pip install wget\n",
        "!pip install open3d\n",
        "!pip install vedo\n",
        "#!pip install stackview ipycanvas==0.11\n",
        "import os\n",
        "!git clone https://github.com/wolny/pytorch-3dunet.git\n",
        "%cd pytorch-3dunet\n",
        "!python setup.py install"
      ]
    },
    {
      "cell_type": "code",
      "source": [
        "import torch\n",
        "torch.cuda.is_available()"
      ],
      "metadata": {
        "colab": {
          "base_uri": "https://localhost:8080/"
        },
        "id": "xqh3IXuJFLR4",
        "outputId": "99440ff4-a9c5-40f9-f2b4-e4a99ceeae3e"
      },
      "execution_count": 4,
      "outputs": [
        {
          "output_type": "execute_result",
          "data": {
            "text/plain": [
              "False"
            ]
          },
          "metadata": {},
          "execution_count": 4
        }
      ]
    },
    {
      "cell_type": "code",
      "source": [
        "from google.colab import drive\n",
        "drive.mount('/content/drive')"
      ],
      "metadata": {
        "colab": {
          "base_uri": "https://localhost:8080/"
        },
        "id": "1HL98aQDFMyY",
        "outputId": "5700c801-7f89-42ac-dfef-4ee237180cd6"
      },
      "execution_count": 5,
      "outputs": [
        {
          "output_type": "stream",
          "name": "stdout",
          "text": [
            "Mounted at /content/drive\n"
          ]
        }
      ]
    },
    {
      "cell_type": "code",
      "source": [
        "#need to set appropriate  home folder\n",
        "import os.path\n",
        "from os import path\n",
        "if path.exists('/content/drive/MyDrive/3D_UNET_rootine_eg/') == False:\n",
        "  os.mkdir('/content/drive/MyDrive/3D_UNET_rootine_eg/')\n",
        "home_folder = \"/content/drive/MyDrive/3D_UNET_rootine_eg/\""
      ],
      "metadata": {
        "id": "W4jncHxhFNdq"
      },
      "execution_count": 6,
      "outputs": []
    },
    {
      "cell_type": "code",
      "source": [
        "#Create Config Folder\n",
        "if path.exists(home_folder+'config_files') == False:\n",
        "  os.mkdir(home_folder+'config_files')\n",
        "config_folder = home_folder+'config_files/'"
      ],
      "metadata": {
        "id": "JW5IVXyjFgFR"
      },
      "execution_count": 7,
      "outputs": []
    },
    {
      "cell_type": "code",
      "source": [
        "#Create Checkpoint Folder\n",
        "if path.exists(home_folder+'checkpoint_dir') == False:\n",
        "  os.mkdir(home_folder+'checkpoint_dir')\n",
        "checkpoint_dir = home_folder+'checkpoint_dir/'"
      ],
      "metadata": {
        "id": "hPWtC6hQFgIQ"
      },
      "execution_count": 8,
      "outputs": []
    },
    {
      "cell_type": "code",
      "source": [
        "#Create Checkpoint Folder\n",
        "if path.exists(home_folder+'rootine_v2_data_dir/') == False:\n",
        "  os.mkdir(home_folder+'rootine_v2_data_dir/')\n",
        "rootine_v2_data_dir = home_folder+'rootine_v2_data_dir/'"
      ],
      "metadata": {
        "id": "CtrMXmbcF2_o"
      },
      "execution_count": 9,
      "outputs": []
    },
    {
      "cell_type": "code",
      "source": [
        "#Create Training_data Folder\n",
        "\n",
        "if path.exists(home_folder+'training_data') == False:\n",
        "  os.mkdir(home_folder+'training_data')\n",
        "\n",
        "if path.exists(home_folder+'training_data/train/') == False:\n",
        "  os.mkdir(home_folder+'training_data/train/')\n",
        "\n",
        "if path.exists(home_folder+'training_data/qc/') == False:\n",
        "  os.mkdir(home_folder+'training_data/qc/')"
      ],
      "metadata": {
        "id": "0wSBZMVRFgLA"
      },
      "execution_count": 10,
      "outputs": []
    },
    {
      "cell_type": "code",
      "source": [
        "#Create Folder to store images we want to segment\n",
        "if path.exists(home_folder+'segment_this_folder/') == False:\n",
        "  os.mkdir(home_folder+'segment_this_folder/')\n",
        "imgs_to_seg_dir = home_folder+'segment_this_folder/'"
      ],
      "metadata": {
        "id": "cMMyV83JH9jZ"
      },
      "execution_count": 11,
      "outputs": []
    },
    {
      "cell_type": "markdown",
      "source": [
        "Download Data and Mask from Rootine-V2 paper"
      ],
      "metadata": {
        "id": "-xfjQZFXFxiC"
      }
    },
    {
      "cell_type": "code",
      "source": [
        "import wget\n",
        "\n",
        "\n",
        "if os.path.isfile(home_folder+'rootine_v2_data_dir/rootine_mask.tif'):\n",
        "  print(\"already downloaded\")\n",
        "else:\n",
        "  wget.download(\"https://zenodo.org/records/13984519/files/\"+\"rootine_mask.tif\"+\"?download=1\", out=home_folder+'rootine_v2_data_dir/rootine_mask.tif')\n",
        "\n",
        "if os.path.isfile(home_folder+'rootine_v2_data_dir/rootine_img.tif'):\n",
        "  print(\"already downloaded\")\n",
        "else:\n",
        "  wget.download(\"https://zenodo.org/records/13984519/files/\"+\"rootine_raw_scan.tif\"+\"?download=1\", out=home_folder+'rootine_v2_data_dir/rootine_img.tif')"
      ],
      "metadata": {
        "colab": {
          "base_uri": "https://localhost:8080/"
        },
        "id": "Glw4zwyJFgNp",
        "outputId": "8f635344-1d2e-4fcf-b119-d296839a00c2"
      },
      "execution_count": 12,
      "outputs": [
        {
          "output_type": "stream",
          "name": "stdout",
          "text": [
            "already downloaded\n",
            "already downloaded\n"
          ]
        }
      ]
    },
    {
      "cell_type": "markdown",
      "source": [
        "To fit inside Colabs free resources we need to work on a sub sample of the data and create less training data. As such the methods and results are not a complete 1:1 but can be tweaked to match the full dataset (comments will be added on how to run the full data set if Colab resources are purchased or this notebook is being run locally)"
      ],
      "metadata": {
        "id": "fGwyOuIVGy3Q"
      }
    },
    {
      "cell_type": "markdown",
      "source": [
        "Download the orginal 3D_unet model"
      ],
      "metadata": {
        "id": "9KUvAVCJHoLr"
      }
    },
    {
      "cell_type": "code",
      "source": [
        "if os.path.isfile(checkpoint_dir+'3D_Unet_Root_Model.pytorch'):\n",
        "  print(\"model already download\")\n",
        "else:\n",
        "  wget.download(\"https://zenodo.org/records/13958667/files/\"+\"3D_Unet_Root_Model.pytorch\"+\"?download=1\", out=checkpoint_dir+'3D_Unet_Root_Model.pytorch')\n"
      ],
      "metadata": {
        "colab": {
          "base_uri": "https://localhost:8080/"
        },
        "id": "hfl032vAFqvY",
        "outputId": "ab4b6c35-d840-4cb5-860b-23545116679d"
      },
      "execution_count": 13,
      "outputs": [
        {
          "output_type": "stream",
          "name": "stdout",
          "text": [
            "model already download\n"
          ]
        }
      ]
    },
    {
      "cell_type": "code",
      "source": [
        "#create h5\n",
        "\n",
        "#Convert to H5\n",
        "import skimage\n",
        "#import imagecodecs\n",
        "import h5py\n",
        "from scipy.ndimage import zoom\n",
        "#need to reduce image due to RAM depending on what resources you have\n",
        "#scale_factor=0.2\n",
        "img=skimage.io.imread(rootine_v2_data_dir+'rootine_img.tif')\n",
        "img=img[300:500]\n",
        "hf = h5py.File(imgs_to_seg_dir+\"rootine_200_slices_eg.h5\", 'w')\n",
        "hf.create_dataset('raw', data=img)\n",
        "hf.close()\n",
        "print(\"created h5 file\")\n"
      ],
      "metadata": {
        "id": "WOBLf6-FIOE5",
        "colab": {
          "base_uri": "https://localhost:8080/"
        },
        "outputId": "7f31b458-0165-49bd-a11f-a0ac5ed4bb79"
      },
      "execution_count": 14,
      "outputs": [
        {
          "output_type": "stream",
          "name": "stdout",
          "text": [
            "created h5 file\n"
          ]
        }
      ]
    },
    {
      "cell_type": "code",
      "source": [
        "model_name = \"UNet3D\"\n",
        "in_channels = 1\n",
        "out_channels= 1\n",
        "layer_order = \"gcr\"\n",
        "f_maps = [32,\n",
        "          64,\n",
        "          128,\n",
        "          256]\n",
        "num_groups = 8\n",
        "final_sigmoid = True\n",
        "is_segmentation = True\n",
        "batch_size= 2  #important for gpu memory\n",
        "num_workers= 2\n",
        "raw_internal_path= \"raw\"\n",
        "label_internal_path= \"label\"\n",
        "weight_internal_path= None\n",
        "######################\n",
        "slice_builder_name= \"SliceBuilder\"\n",
        "slice_builder_name_predict = \"SliceBuilder\"\n",
        "patch_shape= [40, 170, 170]  #Change depending on GPU memory\n",
        "stride_shape= [20, 40, 40]   #Change depending on GPU memory\n",
        "halo_shape= [16, 32, 32]\n",
        "threshold = 0.01\n",
        "slack_acceptance = 0.01\n",
        "name_transformer= \"Standardize\"\n",
        "name_transformer_label= \"BlobsToMask\"\n",
        "append_label= False\n",
        "boundary= False\n",
        "ToTensor_name = \"ToTensor\"\n",
        "expand_dims_false= False\n",
        "expand_dims_true= True\n",
        "#####################\n",
        "predictor_name='StandardPredictor'\n",
        "#################################\n",
        "file_paths_test= imgs_to_seg_dir\n",
        "#############################\n",
        "model_path=checkpoint_dir+'3D_Unet_Root_Model.pytorch'\n"
      ],
      "metadata": {
        "id": "OkEKjxmlFgQI"
      },
      "execution_count": 15,
      "outputs": []
    },
    {
      "cell_type": "code",
      "source": [
        "import yaml\n",
        "test_config_yaml ={\n",
        "    \"model_path\": model_path,\n",
        "    \"model\": {\n",
        "        \"name\": model_name,\n",
        "        \"in_channels\": in_channels,\n",
        "        \"out_channels\": out_channels,\n",
        "        \"layer_order\": layer_order,\n",
        "        \"f_maps\": f_maps,\n",
        "        \"num_groups\": num_groups,\n",
        "        \"final_sigmoid\": final_sigmoid,\n",
        "        \"is_segmentation\": is_segmentation\n",
        "    },\n",
        "    \"predictor\": {\n",
        "        \"name\": predictor_name\n",
        "    },\n",
        "    \"loaders\": {\n",
        "        \"batch_size\": batch_size,\n",
        "        \"raw_internal_path\": raw_internal_path,\n",
        "        \"num_workers\": num_workers,\n",
        "        \"test\": {\n",
        "            \"file_paths\": [\n",
        "                file_paths_test\n",
        "            ],\n",
        "            \"slice_builder\": {\n",
        "                \"name\": slice_builder_name_predict,\n",
        "                \"patch_shape\": patch_shape,\n",
        "                \"stride_shape\": patch_shape,\n",
        "                \"halo_shape\": halo_shape\n",
        "            },\n",
        "            \"transformer\": {\n",
        "                \"raw\": [\n",
        "                    {\n",
        "                        \"name\": name_transformer\n",
        "                    },\n",
        "                    {\n",
        "                        \"name\": ToTensor_name,\n",
        "                        \"expand_dims\": expand_dims_true\n",
        "                    }\n",
        "                ]\n",
        "            }\n",
        "        }\n",
        "    }\n",
        "}\n",
        "\n",
        "with open(config_folder+'predict.yaml', 'w') as yaml_file:\n",
        "    yaml.dump(test_config_yaml, yaml_file, default_flow_style=False, sort_keys=False)\n"
      ],
      "metadata": {
        "id": "Oo6TmRQKFgTZ"
      },
      "execution_count": 16,
      "outputs": []
    },
    {
      "cell_type": "code",
      "source": [
        "!predict3dunet --config /content/drive/MyDrive/3D_UNET_rootine_eg/config_files/predict.yaml"
      ],
      "metadata": {
        "colab": {
          "base_uri": "https://localhost:8080/"
        },
        "id": "YPkcnvqUJpdZ",
        "outputId": "4cd57b5b-5482-47cd-e275-00953cecfdd3"
      },
      "execution_count": 17,
      "outputs": [
        {
          "output_type": "stream",
          "name": "stdout",
          "text": [
            "2024-11-22 00:18:43,639 [MainThread] WARNING ConfigLoader - CUDA not available, using CPU\n",
            "2024-11-22 00:18:43,745 [MainThread] INFO UNet3DPredict - Loading model from /content/drive/MyDrive/3D_UNET_rootine_eg/checkpoint_dir/3D_Unet_Root_Model.pytorch...\n",
            "/usr/local/lib/python3.10/dist-packages/pytorch3dunet-1.8.7-py3.10.egg/pytorch3dunet/unet3d/utils.py:51: FutureWarning: You are using `torch.load` with `weights_only=False` (the current default value), which uses the default pickle module implicitly. It is possible to construct malicious pickle data which will execute arbitrary code during unpickling (See https://github.com/pytorch/pytorch/blob/main/SECURITY.md#untrusted-models for more details). In a future release, the default value for `weights_only` will be flipped to `True`. This limits the functions that could be executed during unpickling. Arbitrary objects will no longer be allowed to be loaded via this mode unless they are explicitly allowlisted by the user via `torch.serialization.add_safe_globals`. We recommend you start setting `weights_only=True` for any use case where you don't have full control of the loaded file. Please open an issue on GitHub for any issues related to this experimental feature.\n",
            "2024-11-22 00:18:51,195 [MainThread] INFO Dataset - Creating test set loaders...\n",
            "2024-11-22 00:18:51,195 [MainThread] WARNING Dataset - Cannot find dataset class in the config. Using default 'StandardHDF5Dataset'.\n",
            "2024-11-22 00:18:51,199 [MainThread] INFO HDF5Dataset - Loading test set from: /content/drive/MyDrive/3D_UNET_rootine_eg/segment_this_folder/rootine_200_slices_eg.h5...\n",
            "2024-11-22 00:18:51,306 [MainThread] INFO Dataset - Slice builder config: {'name': 'SliceBuilder', 'patch_shape': [40, 170, 170], 'stride_shape': [40, 170, 170], 'halo_shape': [16, 32, 32]}\n",
            "2024-11-22 00:18:51,335 [MainThread] INFO HDF5Dataset - Number of patches: 500\n",
            "2024-11-22 00:18:51,335 [MainThread] INFO Dataset - Number of workers for the dataloader: 2\n",
            "2024-11-22 00:18:51,336 [MainThread] INFO Dataset - Batch size for dataloader: 2\n",
            "2024-11-22 00:18:51,336 [MainThread] INFO Dataset - Loading test set from: /content/drive/MyDrive/3D_UNET_rootine_eg/segment_this_folder/rootine_200_slices_eg.h5...\n",
            "2024-11-22 00:18:51,336 [MainThread] INFO UNetPredictor - Processing '/content/drive/MyDrive/3D_UNET_rootine_eg/segment_this_folder/rootine_200_slices_eg.h5'...\n",
            "2024-11-22 00:18:51,336 [MainThread] INFO UNetPredictor - Running inference on 250 batches\n",
            "2024-11-22 00:18:51,349 [MainThread] INFO UNetPredictor - Allocating prediction and normalization arrays...\n",
            "  0% 0/250 [00:00<?, ?it/s]^C\n"
          ]
        }
      ]
    },
    {
      "cell_type": "code",
      "source": [],
      "metadata": {
        "id": "TFKFHTYyJrwJ"
      },
      "execution_count": 17,
      "outputs": []
    },
    {
      "cell_type": "code",
      "source": [],
      "metadata": {
        "id": "8GaUEOrhJqkH"
      },
      "execution_count": 17,
      "outputs": []
    }
  ]
}