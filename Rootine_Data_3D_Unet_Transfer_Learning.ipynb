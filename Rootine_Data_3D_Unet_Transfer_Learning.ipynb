{
  "nbformat": 4,
  "nbformat_minor": 0,
  "metadata": {
    "colab": {
      "provenance": [],
      "gpuType": "T4",
      "authorship_tag": "ABX9TyNj0hiF+SRdzSPQMkY/dHvD",
      "include_colab_link": true
    },
    "kernelspec": {
      "name": "python3",
      "display_name": "Python 3"
    },
    "language_info": {
      "name": "python"
    },
    "accelerator": "GPU"
  },
  "cells": [
    {
      "cell_type": "markdown",
      "metadata": {
        "id": "view-in-github",
        "colab_type": "text"
      },
      "source": [
        "<a href=\"https://colab.research.google.com/github/RichardHarwood/3D-Cell-Workflow/blob/main/Rootine_Data_3D_Unet_Transfer_Learning.ipynb\" target=\"_parent\"><img src=\"https://colab.research.google.com/assets/colab-badge.svg\" alt=\"Open In Colab\"/></a>"
      ]
    },
    {
      "cell_type": "code",
      "execution_count": 1,
      "metadata": {
        "id": "HZayiJK0J9_1",
        "colab": {
          "base_uri": "https://localhost:8080/"
        },
        "outputId": "85a250fa-574d-4a9c-ec44-764c4d7e2a5f"
      },
      "outputs": [
        {
          "output_type": "stream",
          "name": "stdout",
          "text": [
            "Collecting wget\n",
            "  Downloading wget-3.2.zip (10 kB)\n",
            "  Preparing metadata (setup.py) ... \u001b[?25l\u001b[?25hdone\n",
            "Building wheels for collected packages: wget\n",
            "  Building wheel for wget (setup.py) ... \u001b[?25l\u001b[?25hdone\n",
            "  Created wheel for wget: filename=wget-3.2-py3-none-any.whl size=9656 sha256=6aa993d8aa226fa91d50af419c6e0712c5b64b7b544a6f60485f37f7e7a9b42b\n",
            "  Stored in directory: /root/.cache/pip/wheels/8b/f1/7f/5c94f0a7a505ca1c81cd1d9208ae2064675d97582078e6c769\n",
            "Successfully built wget\n",
            "Installing collected packages: wget\n",
            "Successfully installed wget-3.2\n",
            "Collecting open3d\n",
            "  Downloading open3d-0.18.0-cp310-cp310-manylinux_2_27_x86_64.whl.metadata (4.2 kB)\n",
            "Requirement already satisfied: numpy>=1.18.0 in /usr/local/lib/python3.10/dist-packages (from open3d) (1.26.4)\n",
            "Collecting dash>=2.6.0 (from open3d)\n",
            "  Downloading dash-2.18.2-py3-none-any.whl.metadata (10 kB)\n",
            "Requirement already satisfied: werkzeug>=2.2.3 in /usr/local/lib/python3.10/dist-packages (from open3d) (3.0.4)\n",
            "Requirement already satisfied: nbformat>=5.7.0 in /usr/local/lib/python3.10/dist-packages (from open3d) (5.10.4)\n",
            "Collecting configargparse (from open3d)\n",
            "  Downloading ConfigArgParse-1.7-py3-none-any.whl.metadata (23 kB)\n",
            "Collecting ipywidgets>=8.0.4 (from open3d)\n",
            "  Downloading ipywidgets-8.1.5-py3-none-any.whl.metadata (2.3 kB)\n",
            "Collecting addict (from open3d)\n",
            "  Downloading addict-2.4.0-py3-none-any.whl.metadata (1.0 kB)\n",
            "Requirement already satisfied: pillow>=9.3.0 in /usr/local/lib/python3.10/dist-packages (from open3d) (10.4.0)\n",
            "Requirement already satisfied: matplotlib>=3 in /usr/local/lib/python3.10/dist-packages (from open3d) (3.7.1)\n",
            "Requirement already satisfied: pandas>=1.0 in /usr/local/lib/python3.10/dist-packages (from open3d) (2.1.4)\n",
            "Requirement already satisfied: pyyaml>=5.4.1 in /usr/local/lib/python3.10/dist-packages (from open3d) (6.0.2)\n",
            "Requirement already satisfied: scikit-learn>=0.21 in /usr/local/lib/python3.10/dist-packages (from open3d) (1.5.2)\n",
            "Requirement already satisfied: tqdm in /usr/local/lib/python3.10/dist-packages (from open3d) (4.66.5)\n",
            "Collecting pyquaternion (from open3d)\n",
            "  Downloading pyquaternion-0.9.9-py3-none-any.whl.metadata (1.4 kB)\n",
            "Requirement already satisfied: Flask<3.1,>=1.0.4 in /usr/local/lib/python3.10/dist-packages (from dash>=2.6.0->open3d) (2.2.5)\n",
            "Requirement already satisfied: plotly>=5.0.0 in /usr/local/lib/python3.10/dist-packages (from dash>=2.6.0->open3d) (5.24.1)\n",
            "Collecting dash-html-components==2.0.0 (from dash>=2.6.0->open3d)\n",
            "  Downloading dash_html_components-2.0.0-py3-none-any.whl.metadata (3.8 kB)\n",
            "Collecting dash-core-components==2.0.0 (from dash>=2.6.0->open3d)\n",
            "  Downloading dash_core_components-2.0.0-py3-none-any.whl.metadata (2.9 kB)\n",
            "Collecting dash-table==5.0.0 (from dash>=2.6.0->open3d)\n",
            "  Downloading dash_table-5.0.0-py3-none-any.whl.metadata (2.4 kB)\n",
            "Requirement already satisfied: importlib-metadata in /usr/local/lib/python3.10/dist-packages (from dash>=2.6.0->open3d) (8.5.0)\n",
            "Requirement already satisfied: typing-extensions>=4.1.1 in /usr/local/lib/python3.10/dist-packages (from dash>=2.6.0->open3d) (4.12.2)\n",
            "Requirement already satisfied: requests in /usr/local/lib/python3.10/dist-packages (from dash>=2.6.0->open3d) (2.32.3)\n",
            "Collecting retrying (from dash>=2.6.0->open3d)\n",
            "  Downloading retrying-1.3.4-py3-none-any.whl.metadata (6.9 kB)\n",
            "Requirement already satisfied: nest-asyncio in /usr/local/lib/python3.10/dist-packages (from dash>=2.6.0->open3d) (1.6.0)\n",
            "Requirement already satisfied: setuptools in /usr/local/lib/python3.10/dist-packages (from dash>=2.6.0->open3d) (71.0.4)\n",
            "Collecting comm>=0.1.3 (from ipywidgets>=8.0.4->open3d)\n",
            "  Downloading comm-0.2.2-py3-none-any.whl.metadata (3.7 kB)\n",
            "Requirement already satisfied: ipython>=6.1.0 in /usr/local/lib/python3.10/dist-packages (from ipywidgets>=8.0.4->open3d) (7.34.0)\n",
            "Requirement already satisfied: traitlets>=4.3.1 in /usr/local/lib/python3.10/dist-packages (from ipywidgets>=8.0.4->open3d) (5.7.1)\n",
            "Collecting widgetsnbextension~=4.0.12 (from ipywidgets>=8.0.4->open3d)\n",
            "  Downloading widgetsnbextension-4.0.13-py3-none-any.whl.metadata (1.6 kB)\n",
            "Requirement already satisfied: jupyterlab-widgets~=3.0.12 in /usr/local/lib/python3.10/dist-packages (from ipywidgets>=8.0.4->open3d) (3.0.13)\n",
            "Requirement already satisfied: contourpy>=1.0.1 in /usr/local/lib/python3.10/dist-packages (from matplotlib>=3->open3d) (1.3.0)\n",
            "Requirement already satisfied: cycler>=0.10 in /usr/local/lib/python3.10/dist-packages (from matplotlib>=3->open3d) (0.12.1)\n",
            "Requirement already satisfied: fonttools>=4.22.0 in /usr/local/lib/python3.10/dist-packages (from matplotlib>=3->open3d) (4.53.1)\n",
            "Requirement already satisfied: kiwisolver>=1.0.1 in /usr/local/lib/python3.10/dist-packages (from matplotlib>=3->open3d) (1.4.7)\n",
            "Requirement already satisfied: packaging>=20.0 in /usr/local/lib/python3.10/dist-packages (from matplotlib>=3->open3d) (24.1)\n",
            "Requirement already satisfied: pyparsing>=2.3.1 in /usr/local/lib/python3.10/dist-packages (from matplotlib>=3->open3d) (3.1.4)\n",
            "Requirement already satisfied: python-dateutil>=2.7 in /usr/local/lib/python3.10/dist-packages (from matplotlib>=3->open3d) (2.8.2)\n",
            "Requirement already satisfied: fastjsonschema>=2.15 in /usr/local/lib/python3.10/dist-packages (from nbformat>=5.7.0->open3d) (2.20.0)\n",
            "Requirement already satisfied: jsonschema>=2.6 in /usr/local/lib/python3.10/dist-packages (from nbformat>=5.7.0->open3d) (4.23.0)\n",
            "Requirement already satisfied: jupyter-core!=5.0.*,>=4.12 in /usr/local/lib/python3.10/dist-packages (from nbformat>=5.7.0->open3d) (5.7.2)\n",
            "Requirement already satisfied: pytz>=2020.1 in /usr/local/lib/python3.10/dist-packages (from pandas>=1.0->open3d) (2024.2)\n",
            "Requirement already satisfied: tzdata>=2022.1 in /usr/local/lib/python3.10/dist-packages (from pandas>=1.0->open3d) (2024.1)\n",
            "Requirement already satisfied: scipy>=1.6.0 in /usr/local/lib/python3.10/dist-packages (from scikit-learn>=0.21->open3d) (1.13.1)\n",
            "Requirement already satisfied: joblib>=1.2.0 in /usr/local/lib/python3.10/dist-packages (from scikit-learn>=0.21->open3d) (1.4.2)\n",
            "Requirement already satisfied: threadpoolctl>=3.1.0 in /usr/local/lib/python3.10/dist-packages (from scikit-learn>=0.21->open3d) (3.5.0)\n",
            "Requirement already satisfied: MarkupSafe>=2.1.1 in /usr/local/lib/python3.10/dist-packages (from werkzeug>=2.2.3->open3d) (2.1.5)\n",
            "Requirement already satisfied: Jinja2>=3.0 in /usr/local/lib/python3.10/dist-packages (from Flask<3.1,>=1.0.4->dash>=2.6.0->open3d) (3.1.4)\n",
            "Requirement already satisfied: itsdangerous>=2.0 in /usr/local/lib/python3.10/dist-packages (from Flask<3.1,>=1.0.4->dash>=2.6.0->open3d) (2.2.0)\n",
            "Requirement already satisfied: click>=8.0 in /usr/local/lib/python3.10/dist-packages (from Flask<3.1,>=1.0.4->dash>=2.6.0->open3d) (8.1.7)\n",
            "Collecting jedi>=0.16 (from ipython>=6.1.0->ipywidgets>=8.0.4->open3d)\n",
            "  Downloading jedi-0.19.2-py2.py3-none-any.whl.metadata (22 kB)\n",
            "Requirement already satisfied: decorator in /usr/local/lib/python3.10/dist-packages (from ipython>=6.1.0->ipywidgets>=8.0.4->open3d) (4.4.2)\n",
            "Requirement already satisfied: pickleshare in /usr/local/lib/python3.10/dist-packages (from ipython>=6.1.0->ipywidgets>=8.0.4->open3d) (0.7.5)\n",
            "Requirement already satisfied: prompt-toolkit!=3.0.0,!=3.0.1,<3.1.0,>=2.0.0 in /usr/local/lib/python3.10/dist-packages (from ipython>=6.1.0->ipywidgets>=8.0.4->open3d) (3.0.47)\n",
            "Requirement already satisfied: pygments in /usr/local/lib/python3.10/dist-packages (from ipython>=6.1.0->ipywidgets>=8.0.4->open3d) (2.18.0)\n",
            "Requirement already satisfied: backcall in /usr/local/lib/python3.10/dist-packages (from ipython>=6.1.0->ipywidgets>=8.0.4->open3d) (0.2.0)\n",
            "Requirement already satisfied: matplotlib-inline in /usr/local/lib/python3.10/dist-packages (from ipython>=6.1.0->ipywidgets>=8.0.4->open3d) (0.1.7)\n",
            "Requirement already satisfied: pexpect>4.3 in /usr/local/lib/python3.10/dist-packages (from ipython>=6.1.0->ipywidgets>=8.0.4->open3d) (4.9.0)\n",
            "Requirement already satisfied: attrs>=22.2.0 in /usr/local/lib/python3.10/dist-packages (from jsonschema>=2.6->nbformat>=5.7.0->open3d) (24.2.0)\n",
            "Requirement already satisfied: jsonschema-specifications>=2023.03.6 in /usr/local/lib/python3.10/dist-packages (from jsonschema>=2.6->nbformat>=5.7.0->open3d) (2023.12.1)\n",
            "Requirement already satisfied: referencing>=0.28.4 in /usr/local/lib/python3.10/dist-packages (from jsonschema>=2.6->nbformat>=5.7.0->open3d) (0.35.1)\n",
            "Requirement already satisfied: rpds-py>=0.7.1 in /usr/local/lib/python3.10/dist-packages (from jsonschema>=2.6->nbformat>=5.7.0->open3d) (0.20.0)\n",
            "Requirement already satisfied: platformdirs>=2.5 in /usr/local/lib/python3.10/dist-packages (from jupyter-core!=5.0.*,>=4.12->nbformat>=5.7.0->open3d) (4.3.6)\n",
            "Requirement already satisfied: tenacity>=6.2.0 in /usr/local/lib/python3.10/dist-packages (from plotly>=5.0.0->dash>=2.6.0->open3d) (9.0.0)\n",
            "Requirement already satisfied: six>=1.5 in /usr/local/lib/python3.10/dist-packages (from python-dateutil>=2.7->matplotlib>=3->open3d) (1.16.0)\n",
            "Requirement already satisfied: zipp>=3.20 in /usr/local/lib/python3.10/dist-packages (from importlib-metadata->dash>=2.6.0->open3d) (3.20.2)\n",
            "Requirement already satisfied: charset-normalizer<4,>=2 in /usr/local/lib/python3.10/dist-packages (from requests->dash>=2.6.0->open3d) (3.3.2)\n",
            "Requirement already satisfied: idna<4,>=2.5 in /usr/local/lib/python3.10/dist-packages (from requests->dash>=2.6.0->open3d) (3.10)\n",
            "Requirement already satisfied: urllib3<3,>=1.21.1 in /usr/local/lib/python3.10/dist-packages (from requests->dash>=2.6.0->open3d) (2.2.3)\n",
            "Requirement already satisfied: certifi>=2017.4.17 in /usr/local/lib/python3.10/dist-packages (from requests->dash>=2.6.0->open3d) (2024.8.30)\n",
            "Requirement already satisfied: parso<0.9.0,>=0.8.4 in /usr/local/lib/python3.10/dist-packages (from jedi>=0.16->ipython>=6.1.0->ipywidgets>=8.0.4->open3d) (0.8.4)\n",
            "Requirement already satisfied: ptyprocess>=0.5 in /usr/local/lib/python3.10/dist-packages (from pexpect>4.3->ipython>=6.1.0->ipywidgets>=8.0.4->open3d) (0.7.0)\n",
            "Requirement already satisfied: wcwidth in /usr/local/lib/python3.10/dist-packages (from prompt-toolkit!=3.0.0,!=3.0.1,<3.1.0,>=2.0.0->ipython>=6.1.0->ipywidgets>=8.0.4->open3d) (0.2.13)\n",
            "Downloading open3d-0.18.0-cp310-cp310-manylinux_2_27_x86_64.whl (399.7 MB)\n",
            "\u001b[2K   \u001b[90m━━━━━━━━━━━━━━━━━━━━━━━━━━━━━━━━━━━━━━━━\u001b[0m \u001b[32m399.7/399.7 MB\u001b[0m \u001b[31m4.1 MB/s\u001b[0m eta \u001b[36m0:00:00\u001b[0m\n",
            "\u001b[?25hDownloading dash-2.18.2-py3-none-any.whl (7.8 MB)\n",
            "\u001b[2K   \u001b[90m━━━━━━━━━━━━━━━━━━━━━━━━━━━━━━━━━━━━━━━━\u001b[0m \u001b[32m7.8/7.8 MB\u001b[0m \u001b[31m108.0 MB/s\u001b[0m eta \u001b[36m0:00:00\u001b[0m\n",
            "\u001b[?25hDownloading dash_core_components-2.0.0-py3-none-any.whl (3.8 kB)\n",
            "Downloading dash_html_components-2.0.0-py3-none-any.whl (4.1 kB)\n",
            "Downloading dash_table-5.0.0-py3-none-any.whl (3.9 kB)\n",
            "Downloading ipywidgets-8.1.5-py3-none-any.whl (139 kB)\n",
            "\u001b[2K   \u001b[90m━━━━━━━━━━━━━━━━━━━━━━━━━━━━━━━━━━━━━━━━\u001b[0m \u001b[32m139.8/139.8 kB\u001b[0m \u001b[31m13.0 MB/s\u001b[0m eta \u001b[36m0:00:00\u001b[0m\n",
            "\u001b[?25hDownloading addict-2.4.0-py3-none-any.whl (3.8 kB)\n",
            "Downloading ConfigArgParse-1.7-py3-none-any.whl (25 kB)\n",
            "Downloading pyquaternion-0.9.9-py3-none-any.whl (14 kB)\n",
            "Downloading comm-0.2.2-py3-none-any.whl (7.2 kB)\n",
            "Downloading widgetsnbextension-4.0.13-py3-none-any.whl (2.3 MB)\n",
            "\u001b[2K   \u001b[90m━━━━━━━━━━━━━━━━━━━━━━━━━━━━━━━━━━━━━━━━\u001b[0m \u001b[32m2.3/2.3 MB\u001b[0m \u001b[31m79.5 MB/s\u001b[0m eta \u001b[36m0:00:00\u001b[0m\n",
            "\u001b[?25hDownloading retrying-1.3.4-py3-none-any.whl (11 kB)\n",
            "Downloading jedi-0.19.2-py2.py3-none-any.whl (1.6 MB)\n",
            "\u001b[2K   \u001b[90m━━━━━━━━━━━━━━━━━━━━━━━━━━━━━━━━━━━━━━━━\u001b[0m \u001b[32m1.6/1.6 MB\u001b[0m \u001b[31m69.4 MB/s\u001b[0m eta \u001b[36m0:00:00\u001b[0m\n",
            "\u001b[?25hInstalling collected packages: dash-table, dash-html-components, dash-core-components, addict, widgetsnbextension, retrying, pyquaternion, jedi, configargparse, comm, ipywidgets, dash, open3d\n",
            "  Attempting uninstall: widgetsnbextension\n",
            "    Found existing installation: widgetsnbextension 3.6.9\n",
            "    Uninstalling widgetsnbextension-3.6.9:\n",
            "      Successfully uninstalled widgetsnbextension-3.6.9\n",
            "  Attempting uninstall: ipywidgets\n",
            "    Found existing installation: ipywidgets 7.7.1\n",
            "    Uninstalling ipywidgets-7.7.1:\n",
            "      Successfully uninstalled ipywidgets-7.7.1\n",
            "Successfully installed addict-2.4.0 comm-0.2.2 configargparse-1.7 dash-2.18.2 dash-core-components-2.0.0 dash-html-components-2.0.0 dash-table-5.0.0 ipywidgets-8.1.5 jedi-0.19.2 open3d-0.18.0 pyquaternion-0.9.9 retrying-1.3.4 widgetsnbextension-4.0.13\n",
            "Collecting vedo\n",
            "  Downloading vedo-2024.5.2.tar.gz (2.7 MB)\n",
            "\u001b[2K     \u001b[90m━━━━━━━━━━━━━━━━━━━━━━━━━━━━━━━━━━━━━━━━\u001b[0m \u001b[32m2.7/2.7 MB\u001b[0m \u001b[31m8.5 MB/s\u001b[0m eta \u001b[36m0:00:00\u001b[0m\n",
            "\u001b[?25h  Preparing metadata (setup.py) ... \u001b[?25l\u001b[?25hdone\n",
            "Collecting vtk (from vedo)\n",
            "  Downloading vtk-9.3.1-cp310-cp310-manylinux_2_17_x86_64.manylinux2014_x86_64.whl.metadata (5.2 kB)\n",
            "Requirement already satisfied: numpy in /usr/local/lib/python3.10/dist-packages (from vedo) (1.26.4)\n",
            "Requirement already satisfied: Pygments in /usr/local/lib/python3.10/dist-packages (from vedo) (2.18.0)\n",
            "Requirement already satisfied: typing-extensions in /usr/local/lib/python3.10/dist-packages (from vedo) (4.12.2)\n",
            "Requirement already satisfied: matplotlib>=2.0.0 in /usr/local/lib/python3.10/dist-packages (from vtk->vedo) (3.7.1)\n",
            "Requirement already satisfied: contourpy>=1.0.1 in /usr/local/lib/python3.10/dist-packages (from matplotlib>=2.0.0->vtk->vedo) (1.3.0)\n",
            "Requirement already satisfied: cycler>=0.10 in /usr/local/lib/python3.10/dist-packages (from matplotlib>=2.0.0->vtk->vedo) (0.12.1)\n",
            "Requirement already satisfied: fonttools>=4.22.0 in /usr/local/lib/python3.10/dist-packages (from matplotlib>=2.0.0->vtk->vedo) (4.53.1)\n",
            "Requirement already satisfied: kiwisolver>=1.0.1 in /usr/local/lib/python3.10/dist-packages (from matplotlib>=2.0.0->vtk->vedo) (1.4.7)\n",
            "Requirement already satisfied: packaging>=20.0 in /usr/local/lib/python3.10/dist-packages (from matplotlib>=2.0.0->vtk->vedo) (24.1)\n",
            "Requirement already satisfied: pillow>=6.2.0 in /usr/local/lib/python3.10/dist-packages (from matplotlib>=2.0.0->vtk->vedo) (10.4.0)\n",
            "Requirement already satisfied: pyparsing>=2.3.1 in /usr/local/lib/python3.10/dist-packages (from matplotlib>=2.0.0->vtk->vedo) (3.1.4)\n",
            "Requirement already satisfied: python-dateutil>=2.7 in /usr/local/lib/python3.10/dist-packages (from matplotlib>=2.0.0->vtk->vedo) (2.8.2)\n",
            "Requirement already satisfied: six>=1.5 in /usr/local/lib/python3.10/dist-packages (from python-dateutil>=2.7->matplotlib>=2.0.0->vtk->vedo) (1.16.0)\n",
            "Downloading vtk-9.3.1-cp310-cp310-manylinux_2_17_x86_64.manylinux2014_x86_64.whl (92.1 MB)\n",
            "\u001b[2K   \u001b[90m━━━━━━━━━━━━━━━━━━━━━━━━━━━━━━━━━━━━━━━━\u001b[0m \u001b[32m92.1/92.1 MB\u001b[0m \u001b[31m8.4 MB/s\u001b[0m eta \u001b[36m0:00:00\u001b[0m\n",
            "\u001b[?25hBuilding wheels for collected packages: vedo\n",
            "  Building wheel for vedo (setup.py) ... \u001b[?25l\u001b[?25hdone\n",
            "  Created wheel for vedo: filename=vedo-2024.5.2-py3-none-any.whl size=2807715 sha256=a2cebba0812e35879b5b7bcb57bf6ea7aef6da6eb1fe6a418ed856cc23a4084a\n",
            "  Stored in directory: /root/.cache/pip/wheels/27/6c/7a/91b6f4993213d1ee45fc4ab1c623405f9daa0de0e9638c0a13\n",
            "Successfully built vedo\n",
            "Installing collected packages: vtk, vedo\n",
            "Successfully installed vedo-2024.5.2 vtk-9.3.1\n",
            "Cloning into 'pytorch-3dunet'...\n",
            "remote: Enumerating objects: 3570, done.\u001b[K\n",
            "remote: Counting objects: 100% (1155/1155), done.\u001b[K\n",
            "remote: Compressing objects: 100% (132/132), done.\u001b[K\n",
            "remote: Total 3570 (delta 1064), reused 1026 (delta 1023), pack-reused 2415 (from 1)\u001b[K\n",
            "Receiving objects: 100% (3570/3570), 297.90 MiB | 26.85 MiB/s, done.\n",
            "Resolving deltas: 100% (2356/2356), done.\n",
            "/content/pytorch-3dunet\n",
            "running install\n",
            "/usr/local/lib/python3.10/dist-packages/setuptools/_distutils/cmd.py:66: SetuptoolsDeprecationWarning: setup.py install is deprecated.\n",
            "!!\n",
            "\n",
            "        ********************************************************************************\n",
            "        Please avoid running ``setup.py`` directly.\n",
            "        Instead, use pypa/build, pypa/installer or other\n",
            "        standards-based tools.\n",
            "\n",
            "        See https://blog.ganssle.io/articles/2021/10/setup-py-deprecated.html for details.\n",
            "        ********************************************************************************\n",
            "\n",
            "!!\n",
            "  self.initialize_options()\n",
            "/usr/local/lib/python3.10/dist-packages/setuptools/_distutils/cmd.py:66: EasyInstallDeprecationWarning: easy_install command is deprecated.\n",
            "!!\n",
            "\n",
            "        ********************************************************************************\n",
            "        Please avoid running ``setup.py`` and ``easy_install``.\n",
            "        Instead, use pypa/build, pypa/installer or other\n",
            "        standards-based tools.\n",
            "\n",
            "        See https://github.com/pypa/setuptools/issues/917 for details.\n",
            "        ********************************************************************************\n",
            "\n",
            "!!\n",
            "  self.initialize_options()\n",
            "running bdist_egg\n",
            "running egg_info\n",
            "creating pytorch3dunet.egg-info\n",
            "writing pytorch3dunet.egg-info/PKG-INFO\n",
            "writing dependency_links to pytorch3dunet.egg-info/dependency_links.txt\n",
            "writing entry points to pytorch3dunet.egg-info/entry_points.txt\n",
            "writing top-level names to pytorch3dunet.egg-info/top_level.txt\n",
            "writing manifest file 'pytorch3dunet.egg-info/SOURCES.txt'\n",
            "reading manifest file 'pytorch3dunet.egg-info/SOURCES.txt'\n",
            "adding license file 'LICENSE'\n",
            "writing manifest file 'pytorch3dunet.egg-info/SOURCES.txt'\n",
            "installing library code to build/bdist.linux-x86_64/egg\n",
            "running install_lib\n",
            "running build_py\n",
            "creating build\n",
            "creating build/lib\n",
            "creating build/lib/pytorch3dunet\n",
            "copying pytorch3dunet/train.py -> build/lib/pytorch3dunet\n",
            "copying pytorch3dunet/__init__.py -> build/lib/pytorch3dunet\n",
            "copying pytorch3dunet/__version__.py -> build/lib/pytorch3dunet\n",
            "copying pytorch3dunet/predict.py -> build/lib/pytorch3dunet\n",
            "creating build/lib/pytorch3dunet/unet3d\n",
            "copying pytorch3dunet/unet3d/se.py -> build/lib/pytorch3dunet/unet3d\n",
            "copying pytorch3dunet/unet3d/model.py -> build/lib/pytorch3dunet/unet3d\n",
            "copying pytorch3dunet/unet3d/buildingblocks.py -> build/lib/pytorch3dunet/unet3d\n",
            "copying pytorch3dunet/unet3d/seg_metrics.py -> build/lib/pytorch3dunet/unet3d\n",
            "copying pytorch3dunet/unet3d/metrics.py -> build/lib/pytorch3dunet/unet3d\n",
            "copying pytorch3dunet/unet3d/utils.py -> build/lib/pytorch3dunet/unet3d\n",
            "copying pytorch3dunet/unet3d/trainer.py -> build/lib/pytorch3dunet/unet3d\n",
            "copying pytorch3dunet/unet3d/__init__.py -> build/lib/pytorch3dunet/unet3d\n",
            "copying pytorch3dunet/unet3d/config.py -> build/lib/pytorch3dunet/unet3d\n",
            "copying pytorch3dunet/unet3d/losses.py -> build/lib/pytorch3dunet/unet3d\n",
            "copying pytorch3dunet/unet3d/predictor.py -> build/lib/pytorch3dunet/unet3d\n",
            "creating build/lib/pytorch3dunet/augment\n",
            "copying pytorch3dunet/augment/transforms.py -> build/lib/pytorch3dunet/augment\n",
            "copying pytorch3dunet/augment/__init__.py -> build/lib/pytorch3dunet/augment\n",
            "creating build/lib/pytorch3dunet/datasets\n",
            "copying pytorch3dunet/datasets/hdf5.py -> build/lib/pytorch3dunet/datasets\n",
            "copying pytorch3dunet/datasets/utils.py -> build/lib/pytorch3dunet/datasets\n",
            "copying pytorch3dunet/datasets/__init__.py -> build/lib/pytorch3dunet/datasets\n",
            "copying pytorch3dunet/datasets/dsb.py -> build/lib/pytorch3dunet/datasets\n",
            "creating build/bdist.linux-x86_64\n",
            "creating build/bdist.linux-x86_64/egg\n",
            "creating build/bdist.linux-x86_64/egg/pytorch3dunet\n",
            "copying build/lib/pytorch3dunet/train.py -> build/bdist.linux-x86_64/egg/pytorch3dunet\n",
            "creating build/bdist.linux-x86_64/egg/pytorch3dunet/unet3d\n",
            "copying build/lib/pytorch3dunet/unet3d/se.py -> build/bdist.linux-x86_64/egg/pytorch3dunet/unet3d\n",
            "copying build/lib/pytorch3dunet/unet3d/model.py -> build/bdist.linux-x86_64/egg/pytorch3dunet/unet3d\n",
            "copying build/lib/pytorch3dunet/unet3d/buildingblocks.py -> build/bdist.linux-x86_64/egg/pytorch3dunet/unet3d\n",
            "copying build/lib/pytorch3dunet/unet3d/seg_metrics.py -> build/bdist.linux-x86_64/egg/pytorch3dunet/unet3d\n",
            "copying build/lib/pytorch3dunet/unet3d/metrics.py -> build/bdist.linux-x86_64/egg/pytorch3dunet/unet3d\n",
            "copying build/lib/pytorch3dunet/unet3d/utils.py -> build/bdist.linux-x86_64/egg/pytorch3dunet/unet3d\n",
            "copying build/lib/pytorch3dunet/unet3d/trainer.py -> build/bdist.linux-x86_64/egg/pytorch3dunet/unet3d\n",
            "copying build/lib/pytorch3dunet/unet3d/__init__.py -> build/bdist.linux-x86_64/egg/pytorch3dunet/unet3d\n",
            "copying build/lib/pytorch3dunet/unet3d/config.py -> build/bdist.linux-x86_64/egg/pytorch3dunet/unet3d\n",
            "copying build/lib/pytorch3dunet/unet3d/losses.py -> build/bdist.linux-x86_64/egg/pytorch3dunet/unet3d\n",
            "copying build/lib/pytorch3dunet/unet3d/predictor.py -> build/bdist.linux-x86_64/egg/pytorch3dunet/unet3d\n",
            "copying build/lib/pytorch3dunet/__init__.py -> build/bdist.linux-x86_64/egg/pytorch3dunet\n",
            "creating build/bdist.linux-x86_64/egg/pytorch3dunet/augment\n",
            "copying build/lib/pytorch3dunet/augment/transforms.py -> build/bdist.linux-x86_64/egg/pytorch3dunet/augment\n",
            "copying build/lib/pytorch3dunet/augment/__init__.py -> build/bdist.linux-x86_64/egg/pytorch3dunet/augment\n",
            "copying build/lib/pytorch3dunet/__version__.py -> build/bdist.linux-x86_64/egg/pytorch3dunet\n",
            "copying build/lib/pytorch3dunet/predict.py -> build/bdist.linux-x86_64/egg/pytorch3dunet\n",
            "creating build/bdist.linux-x86_64/egg/pytorch3dunet/datasets\n",
            "copying build/lib/pytorch3dunet/datasets/hdf5.py -> build/bdist.linux-x86_64/egg/pytorch3dunet/datasets\n",
            "copying build/lib/pytorch3dunet/datasets/utils.py -> build/bdist.linux-x86_64/egg/pytorch3dunet/datasets\n",
            "copying build/lib/pytorch3dunet/datasets/__init__.py -> build/bdist.linux-x86_64/egg/pytorch3dunet/datasets\n",
            "copying build/lib/pytorch3dunet/datasets/dsb.py -> build/bdist.linux-x86_64/egg/pytorch3dunet/datasets\n",
            "byte-compiling build/bdist.linux-x86_64/egg/pytorch3dunet/train.py to train.cpython-310.pyc\n",
            "byte-compiling build/bdist.linux-x86_64/egg/pytorch3dunet/unet3d/se.py to se.cpython-310.pyc\n",
            "byte-compiling build/bdist.linux-x86_64/egg/pytorch3dunet/unet3d/model.py to model.cpython-310.pyc\n",
            "byte-compiling build/bdist.linux-x86_64/egg/pytorch3dunet/unet3d/buildingblocks.py to buildingblocks.cpython-310.pyc\n",
            "byte-compiling build/bdist.linux-x86_64/egg/pytorch3dunet/unet3d/seg_metrics.py to seg_metrics.cpython-310.pyc\n",
            "byte-compiling build/bdist.linux-x86_64/egg/pytorch3dunet/unet3d/metrics.py to metrics.cpython-310.pyc\n",
            "byte-compiling build/bdist.linux-x86_64/egg/pytorch3dunet/unet3d/utils.py to utils.cpython-310.pyc\n",
            "byte-compiling build/bdist.linux-x86_64/egg/pytorch3dunet/unet3d/trainer.py to trainer.cpython-310.pyc\n",
            "byte-compiling build/bdist.linux-x86_64/egg/pytorch3dunet/unet3d/__init__.py to __init__.cpython-310.pyc\n",
            "byte-compiling build/bdist.linux-x86_64/egg/pytorch3dunet/unet3d/config.py to config.cpython-310.pyc\n",
            "byte-compiling build/bdist.linux-x86_64/egg/pytorch3dunet/unet3d/losses.py to losses.cpython-310.pyc\n",
            "byte-compiling build/bdist.linux-x86_64/egg/pytorch3dunet/unet3d/predictor.py to predictor.cpython-310.pyc\n",
            "byte-compiling build/bdist.linux-x86_64/egg/pytorch3dunet/__init__.py to __init__.cpython-310.pyc\n",
            "byte-compiling build/bdist.linux-x86_64/egg/pytorch3dunet/augment/transforms.py to transforms.cpython-310.pyc\n",
            "byte-compiling build/bdist.linux-x86_64/egg/pytorch3dunet/augment/__init__.py to __init__.cpython-310.pyc\n",
            "byte-compiling build/bdist.linux-x86_64/egg/pytorch3dunet/__version__.py to __version__.cpython-310.pyc\n",
            "byte-compiling build/bdist.linux-x86_64/egg/pytorch3dunet/predict.py to predict.cpython-310.pyc\n",
            "byte-compiling build/bdist.linux-x86_64/egg/pytorch3dunet/datasets/hdf5.py to hdf5.cpython-310.pyc\n",
            "byte-compiling build/bdist.linux-x86_64/egg/pytorch3dunet/datasets/utils.py to utils.cpython-310.pyc\n",
            "byte-compiling build/bdist.linux-x86_64/egg/pytorch3dunet/datasets/__init__.py to __init__.cpython-310.pyc\n",
            "byte-compiling build/bdist.linux-x86_64/egg/pytorch3dunet/datasets/dsb.py to dsb.cpython-310.pyc\n",
            "creating build/bdist.linux-x86_64/egg/EGG-INFO\n",
            "copying pytorch3dunet.egg-info/PKG-INFO -> build/bdist.linux-x86_64/egg/EGG-INFO\n",
            "copying pytorch3dunet.egg-info/SOURCES.txt -> build/bdist.linux-x86_64/egg/EGG-INFO\n",
            "copying pytorch3dunet.egg-info/dependency_links.txt -> build/bdist.linux-x86_64/egg/EGG-INFO\n",
            "copying pytorch3dunet.egg-info/entry_points.txt -> build/bdist.linux-x86_64/egg/EGG-INFO\n",
            "copying pytorch3dunet.egg-info/top_level.txt -> build/bdist.linux-x86_64/egg/EGG-INFO\n",
            "zip_safe flag not set; analyzing archive contents...\n",
            "creating dist\n",
            "creating 'dist/pytorch3dunet-1.8.7-py3.10.egg' and adding 'build/bdist.linux-x86_64/egg' to it\n",
            "removing 'build/bdist.linux-x86_64/egg' (and everything under it)\n",
            "Processing pytorch3dunet-1.8.7-py3.10.egg\n",
            "Copying pytorch3dunet-1.8.7-py3.10.egg to /usr/local/lib/python3.10/dist-packages\n",
            "Adding pytorch3dunet 1.8.7 to easy-install.pth file\n",
            "Installing predict3dunet script to /usr/local/bin\n",
            "Installing train3dunet script to /usr/local/bin\n",
            "\n",
            "Installed /usr/local/lib/python3.10/dist-packages/pytorch3dunet-1.8.7-py3.10.egg\n",
            "Processing dependencies for pytorch3dunet==1.8.7\n",
            "Finished processing dependencies for pytorch3dunet==1.8.7\n"
          ]
        }
      ],
      "source": [
        "!pip install wget\n",
        "!pip install open3d\n",
        "!pip install vedo\n",
        "#!pip install stackview ipycanvas==0.11\n",
        "import os\n",
        "!git clone https://github.com/wolny/pytorch-3dunet.git\n",
        "%cd pytorch-3dunet\n",
        "!python setup.py install"
      ]
    },
    {
      "cell_type": "code",
      "source": [
        "import torch\n",
        "torch.cuda.is_available()"
      ],
      "metadata": {
        "colab": {
          "base_uri": "https://localhost:8080/"
        },
        "id": "7tzweRZyKOas",
        "outputId": "68329416-a4e6-42cb-8d49-343b81250560"
      },
      "execution_count": 2,
      "outputs": [
        {
          "output_type": "execute_result",
          "data": {
            "text/plain": [
              "True"
            ]
          },
          "metadata": {},
          "execution_count": 2
        }
      ]
    },
    {
      "cell_type": "code",
      "source": [
        "from google.colab import drive\n",
        "drive.mount('/content/drive')"
      ],
      "metadata": {
        "colab": {
          "base_uri": "https://localhost:8080/"
        },
        "id": "iwJf9pndKPF6",
        "outputId": "fd16e952-ab35-4f96-80f6-c31566f1af6c"
      },
      "execution_count": 3,
      "outputs": [
        {
          "output_type": "stream",
          "name": "stdout",
          "text": [
            "Mounted at /content/drive\n"
          ]
        }
      ]
    },
    {
      "cell_type": "code",
      "source": [
        "#need to set appropriate  home folder\n",
        "import os.path\n",
        "from os import path\n",
        "if path.exists('/content/drive/MyDrive/3D_UNET_Rootine_eg/') == False:\n",
        "  os.mkdir('/content/drive/MyDrive/3D_UNET_Rootine_eg/')\n",
        "home_folder = \"/content/drive/MyDrive/3D_UNET_Rootine_eg/\""
      ],
      "metadata": {
        "id": "LCQrO-cUKQwM"
      },
      "execution_count": 4,
      "outputs": []
    },
    {
      "cell_type": "code",
      "source": [
        "#Create Config Folder\n",
        "if path.exists(home_folder+'config_files') == False:\n",
        "  os.mkdir(home_folder+'config_files')\n",
        "config_folder = home_folder+'config_files/'"
      ],
      "metadata": {
        "id": "99nrDYGDKQz7"
      },
      "execution_count": 5,
      "outputs": []
    },
    {
      "cell_type": "code",
      "source": [
        "#Create Checkpoint Folder\n",
        "if path.exists(home_folder+'checkpoint_dir') == False:\n",
        "  os.mkdir(home_folder+'checkpoint_dir')\n",
        "checkpoint_dir = home_folder+'checkpoint_dir/'"
      ],
      "metadata": {
        "id": "3S0WZRp4KQ3L"
      },
      "execution_count": 6,
      "outputs": []
    },
    {
      "cell_type": "code",
      "source": [
        "#Create Folder to store images we want to segment\n",
        "if path.exists(home_folder+'segment_this_folder') == False:\n",
        "  os.mkdir(home_folder+'segment_this_folder')\n",
        "imgs_to_seg_dir = home_folder+'segment_this_folder/'"
      ],
      "metadata": {
        "id": "t2vdtekMKQ6E"
      },
      "execution_count": 7,
      "outputs": []
    },
    {
      "cell_type": "markdown",
      "source": [
        "Download an example data set for the Rootine_V2 Example"
      ],
      "metadata": {
        "id": "IfgIP7L1Kiav"
      }
    },
    {
      "cell_type": "code",
      "source": [
        "import wget\n",
        "if os.path.isfile(imgs_to_seg_dir+'2-3_enhanced.tif.h5'):\n",
        "  print(\"image already download\")\n",
        "else:\n",
        "  wget.download(\"https://zenodo.org/records/13958667/files/\"+\"2-3_enhanced.tif.h5\"+\"?download=1\", out=imgs_to_seg_dir+'2-3_enhanced.tif.h5')"
      ],
      "metadata": {
        "id": "2UKhov_4KgDK"
      },
      "execution_count": null,
      "outputs": []
    },
    {
      "cell_type": "code",
      "source": [],
      "metadata": {
        "id": "FzfwTNGnKQ8s"
      },
      "execution_count": null,
      "outputs": []
    },
    {
      "cell_type": "code",
      "source": [],
      "metadata": {
        "id": "x8Sal0VxKQ_L"
      },
      "execution_count": null,
      "outputs": []
    },
    {
      "cell_type": "code",
      "source": [],
      "metadata": {
        "id": "eLqLvlerKRBm"
      },
      "execution_count": null,
      "outputs": []
    }
  ]
}